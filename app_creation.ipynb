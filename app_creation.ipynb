{
 "cells": [
  {
   "cell_type": "code",
   "execution_count": 1,
   "metadata": {},
   "outputs": [
    {
     "name": "stderr",
     "output_type": "stream",
     "text": [
      "2022-11-20 15:33:44.533 \n",
      "  \u001b[33m\u001b[1mWarning:\u001b[0m to view this Streamlit app on a browser, run it with the following\n",
      "  command:\n",
      "\n",
      "    streamlit run /Users/Tahera/opt/anaconda3/envs/anly503/lib/python3.9/site-packages/ipykernel_launcher.py [ARGUMENTS]\n"
     ]
    }
   ],
   "source": [
    "# pip install -r /path/to/requirements.txt\n",
    "\n",
    "import streamlit as st\n",
    "import pandas as pd\n",
    "import joblib \n",
    "import plotly.express as px\n",
    "\n",
    "\n",
    "\n",
    "# Title\n",
    "st.header(\"InstaCart Reordering Prediction App\")\n",
    "\n",
    "\n",
    "df = px.data.tips()\n",
    "fig = px.box(df, y=\"total_bill\")\n",
    "fig.show()\n",
    "\n",
    "\n",
    "# Input bar 1\n",
    "u_p_total = st.number_input(\"Enter the number of times a user has bought the product\")\n",
    "\n",
    "# Input bar 2\n",
    "uxp_reorder_ratio = st.number_input(\"Enter the estimated probability of how frequently a user bought the product\")\n",
    "\n",
    "# Input bar 3\n",
    "u_total_orders= st.number_input(\"Enter the number of orders placed by a user\")\n",
    "\n",
    "# Input bar 4\n",
    "u_reordered_ratio = st.number_input(\"Enter how frequently has a user reordered products\")\n",
    "\n",
    "# Input bar 5\n",
    "p_total=st.number_input(\"Enter the number of times a product has been purchased\")\n",
    "\n",
    "# Input bar 6\n",
    "p_reordered_ratio=st.number_input(\"Enter the estimated probability of porduct being reordered\")\n",
    "\n",
    "# What does the predicted value mean?\n",
    "st.text('1 means Reordered, 0 means Not reordered')\n",
    "\n",
    "# If button is pressed\n",
    "if st.button(\"Submit\"):\n",
    "    \n",
    "    # Unpickle classifier\n",
    "    clf = joblib.load(\"StackedPickle.pkl\")\n",
    "    \n",
    "    # Store inputs into dataframe\n",
    "    X = pd.DataFrame([[u_p_total, uxp_reorder_ratio, u_total_orders,u_reordered_ratio,p_total,p_reordered_ratio]], \n",
    "                     columns = [\"u_p_total\", \"uxp_reorder_ratio\", \"u_total_orders\",'u_reordered_ratio',\"p_total\",\"p_reordered_ratio\"])\n",
    "\n",
    "    \n",
    "    # Get prediction\n",
    "    prediction = clf.predict(X)[0]\n",
    "    \n",
    "    # Output prediction\n",
    "    st.text(f\"This product will be {prediction}\")\n"
   ]
  },
  {
   "cell_type": "code",
   "execution_count": null,
   "metadata": {},
   "outputs": [],
   "source": []
  }
 ],
 "metadata": {
  "kernelspec": {
   "display_name": "Python 3.9.9 ('anly503')",
   "language": "python",
   "name": "python3"
  },
  "language_info": {
   "codemirror_mode": {
    "name": "ipython",
    "version": 3
   },
   "file_extension": ".py",
   "mimetype": "text/x-python",
   "name": "python",
   "nbconvert_exporter": "python",
   "pygments_lexer": "ipython3",
   "version": "3.9.9"
  },
  "orig_nbformat": 4,
  "vscode": {
   "interpreter": {
    "hash": "f747f4033574bc018cd224c8390eda22f5cf19741325755a1e4dd992a19a8100"
   }
  }
 },
 "nbformat": 4,
 "nbformat_minor": 2
}
